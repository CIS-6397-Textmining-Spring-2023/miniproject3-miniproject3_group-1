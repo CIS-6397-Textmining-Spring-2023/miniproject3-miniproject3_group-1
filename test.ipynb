{
 "cells": [
  {
   "cell_type": "code",
   "execution_count": null,
   "metadata": {},
   "outputs": [],
   "source": [
    "import re\n",
    "\n",
    "with open('file.txt', 'r') as f:\n",
    "    data = f.read()\n",
    "\n",
    "articles = re.findall(r'(.+)\\n\\nBy (.+)\\n(\\d+) words\\n(.+)\\n(\\d+) (.+)\\n(.+)\\n(.+)\\n', data, re.DOTALL)\n",
    "\n",
    "for article in articles:\n",
    "    title, author, words, date, time, source, category, rights = article\n",
    "    print(\"Title: \", title)\n",
    "    print(\"Author: \", author)\n",
    "    print(\"Words: \", words)\n",
    "    print(\"Date: \", date)\n",
    "    print(\"Time: \", time)\n",
    "    print(\"Source: \", source)\n",
    "    print(\"Category: \", category)\n",
    "    print(\"Rights: \", rights)\n",
    "    print(\"\\n\")\n"
   ]
  }
 ],
 "metadata": {
  "language_info": {
   "name": "python"
  },
  "orig_nbformat": 4
 },
 "nbformat": 4,
 "nbformat_minor": 2
}
