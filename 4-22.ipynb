{
 "cells": [
  {
   "cell_type": "code",
   "execution_count": 1,
   "id": "acc7928a",
   "metadata": {},
   "outputs": [
    {
     "name": "stderr",
     "output_type": "stream",
     "text": [
      "[nltk_data] Downloading package stopwords to\n",
      "[nltk_data]     C:\\Users\\georg\\AppData\\Roaming\\nltk_data...\n",
      "[nltk_data]   Package stopwords is already up-to-date!\n"
     ]
    },
    {
     "data": {
      "text/plain": [
       "True"
      ]
     },
     "execution_count": 1,
     "metadata": {},
     "output_type": "execute_result"
    }
   ],
   "source": [
    "import os\n",
    "import nltk\n",
    "import re\n",
    "import pandas as pd\n",
    "import matplotlib.pyplot as plt\n",
    "from sklearn.feature_extraction.text import TfidfVectorizer\n",
    "from nltk.corpus import PlaintextCorpusReader\n",
    "import numpy as np\n",
    "from nltk.corpus import stopwords\n",
    "from nltk.tokenize import word_tokenize\n",
    "from nltk.stem import PorterStemmer\n",
    "from nltk import FreqDist\n",
    "import nltk\n",
    "nltk.download('stopwords')"
   ]
  },
  {
   "cell_type": "code",
   "execution_count": 2,
   "id": "4b47027b",
   "metadata": {},
   "outputs": [],
   "source": [
    "# Set the path to your folder containing the text files\n",
    "folder_path = r'Articles'\n",
    "\n",
    "# Read all text files in the folder as one large string\n",
    "large_character = ''\n",
    "for file in os.listdir(folder_path):\n",
    "    if file.endswith('.txt'):\n",
    "        with open(os.path.join(folder_path, file), 'r', encoding='utf-8') as f:\n",
    "            large_character += f.read() + '\\n===END_OF_ARTICLE===\\n'\n",
    "\n",
    "# Split the large character string into individual articles\n",
    "individual_articles = large_character.split('\\n===END_OF_ARTICLE===\\n')\n",
    "\n",
    "# Save the individual articles as separate text files in a new folder\n",
    "new_folder_path = r'New'\n",
    "if not os.path.exists(new_folder_path):\n",
    "    os.makedirs(new_folder_path)\n",
    "\n",
    "for i, article in enumerate(individual_articles):\n",
    "    with open(os.path.join(new_folder_path, f'article_{i}.txt'), 'w', encoding='utf-8') as f:\n",
    "        f.write(article)\n",
    "\n",
    "# Create a corpus object with the new folder containing the split articles\n",
    "corpus = PlaintextCorpusReader(new_folder_path, '.*')\n"
   ]
  },
  {
   "cell_type": "code",
   "execution_count": 3,
   "id": "ee451630",
   "metadata": {},
   "outputs": [],
   "source": [
    "# Function to convert to lower case\n",
    "def convert_lower_case(data):\n",
    "    return np.char.lower(data)\n",
    "\n",
    "# Function to remove stop words\n",
    "def remove_stop_words(data):\n",
    "    stop_words = stopwords.words('english')\n",
    "    words = word_tokenize(str(data))\n",
    "    new_text = \"\"\n",
    "    for w in words:\n",
    "        if w not in stop_words and len(w) > 1:\n",
    "            new_text = new_text + \" \" + w\n",
    "    return new_text\n",
    "\n",
    "# Function to remove punctuation\n",
    "def remove_punctuation(data):\n",
    "    symbols = \"!\\\"#$%&()*+-./:;<=>?@[\\]^_`{|}~\\n\"\n",
    "    for i in range(len(symbols)):\n",
    "        data = np.char.replace(data, symbols[i], ' ')\n",
    "        data = np.char.replace(data, \"  \", \" \")\n",
    "    data = np.char.replace(data, ',', '')\n",
    "    return data\n",
    "\n",
    "# Function to remove apostrophe\n",
    "def remove_apostrophe(data):\n",
    "    return np.char.replace(data, \"'\", \"\")\n",
    "\n",
    "# Function to stem data\n",
    "def stemming(data):\n",
    "    stemmer = PorterStemmer()\n",
    "\n",
    "    tokens = word_tokenize(str(data))\n",
    "    new_text = \"\"\n",
    "    for w in tokens:\n",
    "        new_text = new_text + \" \" + stemmer.stem(w)\n",
    "    return new_text\n",
    "\n",
    "# Function to convert numbers\n",
    "def convert_numbers(data):\n",
    "    tokens = word_tokenize(str(data))\n",
    "    new_text = \"\"\n",
    "    for w in tokens:\n",
    "        try:\n",
    "            w = num2words(int(w))\n",
    "        except:\n",
    "            a = 0\n",
    "        new_text = new_text + \" \" + w\n",
    "    new_text = np.char.replace(new_text, \"-\", \" \")\n",
    "    return new_text\n",
    "\n",
    "# Function to preprocess data\n",
    "def preprocess(data):\n",
    "    data = convert_lower_case(data)\n",
    "    data = remove_punctuation(data)  # remove comma separately\n",
    "    data = remove_apostrophe(data)\n",
    "    data = remove_stop_words(data)\n",
    "    data = convert_numbers(data)\n",
    "    data = stemming(data)\n",
    "    data = remove_punctuation(data)\n",
    "    data = convert_numbers(data)\n",
    "    data = stemming(data)  # needed again as we need to stem the words\n",
    "    data = remove_punctuation(data)  # needed again as num2word is giving few hyphens and commas fourty-one\n",
    "    data = remove_stop_words(data)  # needed again as num2word is giving stop words 101 - one hundred and one\n",
    "    return data\n"
   ]
  },
  {
   "cell_type": "code",
   "execution_count": 5,
   "id": "c25de874",
   "metadata": {},
   "outputs": [],
   "source": [
    "def clean_article(text):\n",
    "    text = re.sub(r'\\s+', ' ', text).strip()\n",
    "    \n",
    "    # Extract section using regex\n",
    "    section = re.search(r'^(.*?);', text)\n",
    "    section = section.group(1).strip() if section else ''\n",
    "\n",
    "    # Extract title using regex\n",
    "    title = re.search(r'(?<=;)(.*?)(?=\\n)', text)\n",
    "    title = title.group(0).strip() if title else ''\n",
    "    \n",
    "    # Extract author using regex\n",
    "    author = re.search(r'By (.*?)\\n', text)\n",
    "    author = author.group(1).strip() if author else ''\n",
    "    \n",
    "    # Extract word count using regex\n",
    "    word_count = re.search(r'(\\d+) words', text)\n",
    "    word_count = int(word_count.group(1)) if word_count else 0\n",
    "\n",
    "    # Extract date using regex\n",
    "    date = re.search(r'\\d+ \\w+ \\d+', text)\n",
    "    date = date.group(0).strip() if date else ''\n",
    "    \n",
    "    # Extract source using regex\n",
    "    source = re.search(r'\\n\\d+\\n(.*?)(?=\\n)', text)\n",
    "    source = source.group(1).strip() if source else ''\n",
    "\n",
    "    # Extract language using regex\n",
    "    language = re.search(r'(?<=\\n)(\\w+)$', text)\n",
    "    language = language.group(1).strip() if language else ''\n",
    "\n",
    "    # Remove metadata from the actual article\n",
    "    text = re.sub(r'^.*?\\n', '', text, count=1)  # Remove section and title\n",
    "    text = re.sub(r'By .*?\\n', '', text, count=1)  # Remove author\n",
    "    text = re.sub(r'\\d+ words.*?\\n', '', text, count=1)  # Remove word count, date, and source\n",
    "    text = re.sub(r'Copyright .*?\\n', '', text, count=1)  # Remove copyright\n",
    "    text = re.sub(r'(?<=\\n)(\\w+)$', '', text, count=1)  # Remove language\n",
    "    text = text.strip()\n",
    "\n",
    "    metadata = {\n",
    "        'section': section,\n",
    "        'title': title,\n",
    "        'author': author,\n",
    "        'word_count': word_count,\n",
    "        'date': date,\n",
    "        'source': source,\n",
    "        'language': language\n",
    "    }\n",
    "    \n",
    "    # Preprocess the text\n",
    "    text = preprocess(text)\n",
    "    \n",
    "    return text, metadata\n",
    "\n",
    "cleaned_corpus = [clean_article(corpus.raw(fileid)) for fileid in corpus.fileids()]\n"
   ]
  },
  {
   "cell_type": "code",
   "execution_count": 6,
   "id": "6b32d522",
   "metadata": {},
   "outputs": [
    {
     "name": "stderr",
     "output_type": "stream",
     "text": [
      "c:\\Users\\georg\\anaconda3\\lib\\site-packages\\sklearn\\utils\\deprecation.py:87: FutureWarning: Function get_feature_names is deprecated; get_feature_names is deprecated in 1.0 and will be removed in 1.2. Please use get_feature_names_out instead.\n",
      "  warnings.warn(msg, category=FutureWarning)\n"
     ]
    }
   ],
   "source": [
    "# Tokenize the articles\n",
    "def tokenize_article(text):\n",
    "    tokens = nltk.word_tokenize(text)\n",
    "    tokens = [token.lower() for token in tokens if token.isalnum()]\n",
    "    return tokens\n",
    "\n",
    "tokenized_corpus = [tokenize_article(text) for text, _ in cleaned_corpus]\n",
    "\n",
    "# Extract features using TF-IDF\n",
    "vectorizer = TfidfVectorizer(stop_words='english')\n",
    "tfidf_matrix = vectorizer.fit_transform([' '.join(tokens) for tokens in tokenized_corpus])\n",
    "feature_names = vectorizer.get_feature_names()\n",
    "\n",
    "# Create summaries using top N features\n",
    "def summarize_article(tfidf_vector, feature_names, N=10):\n",
    "    top_indices = tfidf_vector.toarray()[0].argsort()[-N:][::-1]\n",
    "    top_features = [feature_names[index] for index in top_indices]\n",
    "    summary = ' '.join(top_features)\n",
    "    return summary\n",
    "\n",
    "summaries = [summarize_article(tfidf_matrix[i], feature_names) for i in range(len(tokenized_corpus))]\n"
   ]
  },
  {
   "cell_type": "code",
   "execution_count": 7,
   "id": "049de501",
   "metadata": {
    "scrolled": true
   },
   "outputs": [
    {
     "data": {
      "image/png": "[encoded data removed]",
      "text/plain": [
       "<Figure size 432x288 with 1 Axes>"
      ]
     },
     "metadata": {
      "needs_background": "light"
     },
     "output_type": "display_data"
    },
    {
     "data": {
      "image/png": "[encoded data removed]",
      "text/plain": [
       "<Figure size 432x288 with 1 Axes>"
      ]
     },
     "metadata": {
      "needs_background": "light"
     },
     "output_type": "display_data"
    }
   ],
   "source": [
    "\n",
    "# Explore data: word count distribution\n",
    "word_counts = [len(tokens) for tokens in tokenized_corpus]\n",
    "plt.hist(word_counts, bins=20)\n",
    "plt.xlabel('Word count')\n",
    "plt.ylabel('Frequency')\n",
    "plt.title('Word count distribution in articles')\n",
    "plt.show()\n",
    "\n",
    "# Explore data: top N most frequent words\n",
    "N = 10\n",
    "flat_tokens = [token for article_tokens in tokenized_corpus for token in article_tokens]\n",
    "freq_dist = nltk.FreqDist(flat_tokens)\n",
    "most_common = freq_dist.most_common(N)\n",
    "\n",
    "plt.bar([word for word, _ in most_common], [count for _, count in most_common])\n",
    "plt.xlabel('Words')\n",
    "plt.ylabel('Frequency')\n",
    "plt.title(f'Top {N} most frequent words')\n",
    "plt.show()"
   ]
  },
  {
   "cell_type": "code",
   "execution_count": 8,
   "id": "032524d0",
   "metadata": {},
   "outputs": [
    {
     "name": "stdout",
     "output_type": "stream",
     "text": [
      "Requirement already satisfied: gensim in c:\\users\\georg\\anaconda3\\lib\\site-packages (4.1.2)\n",
      "Requirement already satisfied: smart-open>=1.8.1 in c:\\users\\georg\\anaconda3\\lib\\site-packages (from gensim) (5.1.0)\n",
      "Requirement already satisfied: scipy>=0.18.1 in c:\\users\\georg\\anaconda3\\lib\\site-packages (from gensim) (1.7.3)\n",
      "Requirement already satisfied: numpy>=1.17.0 in c:\\users\\georg\\anaconda3\\lib\\site-packages (from gensim) (1.21.5)\n"
     ]
    }
   ],
   "source": [
    "!pip install gensim\n"
   ]
  },
  {
   "cell_type": "code",
   "execution_count": 9,
   "id": "551bdc57",
   "metadata": {},
   "outputs": [
    {
     "name": "stdout",
     "output_type": "stream",
     "text": [
      "Collecting pyLDAvis\n",
      "  Downloading pyLDAvis-3.4.1-py3-none-any.whl (2.6 MB)\n",
      "Collecting funcy\n",
      "  Downloading funcy-2.0-py2.py3-none-any.whl (30 kB)\n",
      "Requirement already satisfied: jinja2 in c:\\users\\georg\\anaconda3\\lib\\site-packages (from pyLDAvis) (2.11.3)\n",
      "Requirement already satisfied: numexpr in c:\\users\\georg\\anaconda3\\lib\\site-packages (from pyLDAvis) (2.8.1)\n",
      "Requirement already satisfied: scipy in c:\\users\\georg\\anaconda3\\lib\\site-packages (from pyLDAvis) (1.7.3)\n",
      "Requirement already satisfied: gensim in c:\\users\\georg\\anaconda3\\lib\\site-packages (from pyLDAvis) (4.1.2)\n",
      "Collecting numpy>=1.24.2\n",
      "  Downloading numpy-1.24.3-cp39-cp39-win_amd64.whl (14.9 MB)\n",
      "Collecting pandas>=2.0.0\n",
      "  Downloading pandas-2.0.0-cp39-cp39-win_amd64.whl (11.3 MB)\n",
      "Requirement already satisfied: scikit-learn>=1.0.0 in c:\\users\\georg\\anaconda3\\lib\\site-packages (from pyLDAvis) (1.0.2)\n",
      "Collecting joblib>=1.2.0\n",
      "  Using cached joblib-1.2.0-py3-none-any.whl (297 kB)\n",
      "Requirement already satisfied: setuptools in c:\\users\\georg\\anaconda3\\lib\\site-packages (from pyLDAvis) (61.2.0)\n",
      "Requirement already satisfied: pytz>=2020.1 in c:\\users\\georg\\anaconda3\\lib\\site-packages (from pandas>=2.0.0->pyLDAvis) (2021.3)\n",
      "Collecting tzdata>=2022.1\n",
      "  Downloading tzdata-2023.3-py2.py3-none-any.whl (341 kB)\n",
      "Requirement already satisfied: python-dateutil>=2.8.2 in c:\\users\\georg\\anaconda3\\lib\\site-packages (from pandas>=2.0.0->pyLDAvis) (2.8.2)\n",
      "Requirement already satisfied: six>=1.5 in c:\\users\\georg\\anaconda3\\lib\\site-packages (from python-dateutil>=2.8.2->pandas>=2.0.0->pyLDAvis) (1.16.0)\n",
      "Requirement already satisfied: threadpoolctl>=2.0.0 in c:\\users\\georg\\anaconda3\\lib\\site-packages (from scikit-learn>=1.0.0->pyLDAvis) (2.2.0)\n",
      "Collecting scipy\n",
      "  Downloading scipy-1.10.1-cp39-cp39-win_amd64.whl (42.5 MB)\n"
     ]
    },
    {
     "name": "stderr",
     "output_type": "stream",
     "text": [
      "  WARNING: The script f2py.exe is installed in 'C:\\Users\\georg\\AppData\\Roaming\\Python\\Python39\\Scripts' which is not on PATH.\n",
      "  Consider adding this directory to PATH or, if you prefer to suppress this warning, use --no-warn-script-location.\n",
      "ERROR: pip's dependency resolver does not currently take into account all the packages that are installed. This behaviour is the source of the following dependency conflicts.\n",
      "daal4py 2021.5.0 requires daal==2021.4.0, which is not installed.\n",
      "numba 0.55.1 requires numpy<1.22,>=1.18, but you have numpy 1.24.3 which is incompatible.\n"
     ]
    },
    {
     "name": "stdout",
     "output_type": "stream",
     "text": [
      "Requirement already satisfied: smart-open>=1.8.1 in c:\\users\\georg\\anaconda3\\lib\\site-packages (from gensim->pyLDAvis) (5.1.0)\n",
      "Requirement already satisfied: MarkupSafe>=0.23 in c:\\users\\georg\\anaconda3\\lib\\site-packages (from jinja2->pyLDAvis) (2.0.1)\n",
      "Requirement already satisfied: packaging in c:\\users\\georg\\anaconda3\\lib\\site-packages (from numexpr->pyLDAvis) (21.3)\n",
      "Requirement already satisfied: pyparsing!=3.0.5,>=2.0.2 in c:\\users\\georg\\anaconda3\\lib\\site-packages (from packaging->numexpr->pyLDAvis) (3.0.4)\n",
      "Installing collected packages: numpy, tzdata, scipy, joblib, pandas, funcy, pyLDAvis\n",
      "Successfully installed funcy-2.0 joblib-1.2.0 numpy-1.24.3 pandas-2.0.0 pyLDAvis-3.4.1 scipy-1.10.1 tzdata-2023.3\n"
     ]
    }
   ],
   "source": [
    "!pip install --user pyLDAvis\n"
   ]
  },
  {
   "cell_type": "code",
   "execution_count": 10,
   "id": "1134a546",
   "metadata": {},
   "outputs": [],
   "source": [
    "import sys\n",
    "import site\n",
    "\n",
    "user_site_packages = site.getusersitepackages()\n",
    "if user_site_packages not in sys.path:\n",
    "    sys.path.append(user_site_packages)\n"
   ]
  },
  {
   "cell_type": "code",
   "execution_count": 12,
   "id": "269b3743",
   "metadata": {},
   "outputs": [
    {
     "ename": "BrokenProcessPool",
     "evalue": "A task has failed to un-serialize. Please ensure that the arguments of the function are all picklable.",
     "output_type": "error",
     "traceback": [
      "\u001b[1;31m---------------------------------------------------------------------------\u001b[0m",
      "\u001b[1;31m_RemoteTraceback\u001b[0m                          Traceback (most recent call last)",
      "\u001b[1;31m_RemoteTraceback\u001b[0m: \n\"\"\"\nTraceback (most recent call last):\n  File \"C:\\Users\\georg\\AppData\\Roaming\\Python\\Python39\\site-packages\\joblib\\externals\\loky\\process_executor.py\", line 391, in _process_worker\n    call_item = call_queue.get(block=True, timeout=timeout)\n  File \"c:\\Users\\georg\\anaconda3\\lib\\multiprocessing\\queues.py\", line 122, in get\n    return _ForkingPickler.loads(res)\nModuleNotFoundError: No module named 'pandas.core.indexes.numeric'\n\"\"\"",
      "\nThe above exception was the direct cause of the following exception:\n",
      "\u001b[1;31mBrokenProcessPool\u001b[0m                         Traceback (most recent call last)",
      "\u001b[1;32mc:\\Users\\georg\\OneDrive\\Desktop\\miniproject3-miniproject3_group-1\\4-22.ipynb Cell 10\u001b[0m in \u001b[0;36m<cell line: 20>\u001b[1;34m()\u001b[0m\n\u001b[0;32m     <a href='vscode-notebook-cell:/c%3A/Users/georg/OneDrive/Desktop/miniproject3-miniproject3_group-1/4-22.ipynb#X12sZmlsZQ%3D%3D?line=17'>18</a>\u001b[0m \u001b[39m# Visualize the topics\u001b[39;00m\n\u001b[0;32m     <a href='vscode-notebook-cell:/c%3A/Users/georg/OneDrive/Desktop/miniproject3-miniproject3_group-1/4-22.ipynb#X12sZmlsZQ%3D%3D?line=18'>19</a>\u001b[0m pyLDAvis\u001b[39m.\u001b[39menable_notebook()\n\u001b[1;32m---> <a href='vscode-notebook-cell:/c%3A/Users/georg/OneDrive/Desktop/miniproject3-miniproject3_group-1/4-22.ipynb#X12sZmlsZQ%3D%3D?line=19'>20</a>\u001b[0m vis \u001b[39m=\u001b[39m pyLDAvis\u001b[39m.\u001b[39;49mgensim_models\u001b[39m.\u001b[39;49mprepare(lda_model, doc_term_matrix, dictionary)\n\u001b[0;32m     <a href='vscode-notebook-cell:/c%3A/Users/georg/OneDrive/Desktop/miniproject3-miniproject3_group-1/4-22.ipynb#X12sZmlsZQ%3D%3D?line=20'>21</a>\u001b[0m vis\n",
      "File \u001b[1;32m~\\AppData\\Roaming\\Python\\Python39\\site-packages\\pyLDAvis\\gensim_models.py:123\u001b[0m, in \u001b[0;36mprepare\u001b[1;34m(topic_model, corpus, dictionary, doc_topic_dist, **kwargs)\u001b[0m\n\u001b[0;32m     78\u001b[0m \u001b[39m\"\"\"Transforms the Gensim TopicModel and related corpus and dictionary into\u001b[39;00m\n\u001b[0;32m     79\u001b[0m \u001b[39mthe data structures needed for the visualization.\u001b[39;00m\n\u001b[0;32m     80\u001b[0m \n\u001b[1;32m   (...)\u001b[0m\n\u001b[0;32m    120\u001b[0m \u001b[39mSee `pyLDAvis.prepare` for **kwargs.\u001b[39;00m\n\u001b[0;32m    121\u001b[0m \u001b[39m\"\"\"\u001b[39;00m\n\u001b[0;32m    122\u001b[0m opts \u001b[39m=\u001b[39m fp\u001b[39m.\u001b[39mmerge(_extract_data(topic_model, corpus, dictionary, doc_topic_dist), kwargs)\n\u001b[1;32m--> 123\u001b[0m \u001b[39mreturn\u001b[39;00m pyLDAvis\u001b[39m.\u001b[39mprepare(\u001b[39m*\u001b[39m\u001b[39m*\u001b[39mopts)\n",
      "File \u001b[1;32m~\\AppData\\Roaming\\Python\\Python39\\site-packages\\pyLDAvis\\_prepare.py:432\u001b[0m, in \u001b[0;36mprepare\u001b[1;34m(topic_term_dists, doc_topic_dists, doc_lengths, vocab, term_frequency, R, lambda_step, mds, n_jobs, plot_opts, sort_topics, start_index)\u001b[0m\n\u001b[0;32m    426\u001b[0m \u001b[39m# Quick fix for red bar width bug.  We calculate the\u001b[39;00m\n\u001b[0;32m    427\u001b[0m \u001b[39m# term frequencies internally, using the topic term distributions and the\u001b[39;00m\n\u001b[0;32m    428\u001b[0m \u001b[39m# topic frequencies, rather than using the user-supplied term frequencies.\u001b[39;00m\n\u001b[0;32m    429\u001b[0m \u001b[39m# For a detailed discussion, see: https://github.com/cpsievert/LDAvis/pull/41\u001b[39;00m\n\u001b[0;32m    430\u001b[0m term_frequency \u001b[39m=\u001b[39m np\u001b[39m.\u001b[39msum(term_topic_freq, axis\u001b[39m=\u001b[39m\u001b[39m0\u001b[39m)\n\u001b[1;32m--> 432\u001b[0m topic_info \u001b[39m=\u001b[39m _topic_info(topic_term_dists, topic_proportion,\n\u001b[0;32m    433\u001b[0m                          term_frequency, term_topic_freq, vocab, lambda_step, R,\n\u001b[0;32m    434\u001b[0m                          n_jobs, start_index)\n\u001b[0;32m    435\u001b[0m token_table \u001b[39m=\u001b[39m _token_table(topic_info, term_topic_freq, vocab, term_frequency, start_index)\n\u001b[0;32m    436\u001b[0m topic_coordinates \u001b[39m=\u001b[39m _topic_coordinates(mds, topic_term_dists, topic_proportion, start_index)\n",
      "File \u001b[1;32m~\\AppData\\Roaming\\Python\\Python39\\site-packages\\pyLDAvis\\_prepare.py:273\u001b[0m, in \u001b[0;36m_topic_info\u001b[1;34m(topic_term_dists, topic_proportion, term_frequency, term_topic_freq, vocab, lambda_step, R, n_jobs, start_index)\u001b[0m\n\u001b[0;32m    262\u001b[0m     df \u001b[39m=\u001b[39m pd\u001b[39m.\u001b[39mDataFrame({\u001b[39m'\u001b[39m\u001b[39mTerm\u001b[39m\u001b[39m'\u001b[39m: vocab[term_ix],\n\u001b[0;32m    263\u001b[0m                        \u001b[39m'\u001b[39m\u001b[39mFreq\u001b[39m\u001b[39m'\u001b[39m: term_topic_freq\u001b[39m.\u001b[39mloc[original_topic_id, term_ix],\n\u001b[0;32m    264\u001b[0m                        \u001b[39m'\u001b[39m\u001b[39mTotal\u001b[39m\u001b[39m'\u001b[39m: term_frequency[term_ix],\n\u001b[1;32m   (...)\u001b[0m\n\u001b[0;32m    267\u001b[0m                        \u001b[39m'\u001b[39m\u001b[39mloglift\u001b[39m\u001b[39m'\u001b[39m: log_lift\u001b[39m.\u001b[39mloc[original_topic_id, term_ix]\u001b[39m.\u001b[39mround(\u001b[39m4\u001b[39m),\n\u001b[0;32m    268\u001b[0m                        })\n\u001b[0;32m    269\u001b[0m     \u001b[39mreturn\u001b[39;00m df\u001b[39m.\u001b[39mreindex(columns\u001b[39m=\u001b[39m[\n\u001b[0;32m    270\u001b[0m         \u001b[39m\"\u001b[39m\u001b[39mTerm\u001b[39m\u001b[39m\"\u001b[39m, \u001b[39m\"\u001b[39m\u001b[39mFreq\u001b[39m\u001b[39m\"\u001b[39m, \u001b[39m\"\u001b[39m\u001b[39mTotal\u001b[39m\u001b[39m\"\u001b[39m, \u001b[39m\"\u001b[39m\u001b[39mCategory\u001b[39m\u001b[39m\"\u001b[39m, \u001b[39m\"\u001b[39m\u001b[39mlogprob\u001b[39m\u001b[39m\"\u001b[39m, \u001b[39m\"\u001b[39m\u001b[39mloglift\u001b[39m\u001b[39m\"\u001b[39m\n\u001b[0;32m    271\u001b[0m     ])\n\u001b[1;32m--> 273\u001b[0m top_terms \u001b[39m=\u001b[39m pd\u001b[39m.\u001b[39mconcat(Parallel(n_jobs\u001b[39m=\u001b[39;49mn_jobs)\n\u001b[0;32m    274\u001b[0m                       (delayed(_find_relevance_chunks)(log_ttd, log_lift, R, ls)\n\u001b[0;32m    275\u001b[0m                       \u001b[39mfor\u001b[39;49;00m ls \u001b[39min\u001b[39;49;00m _job_chunks(lambda_seq, n_jobs)))\n\u001b[0;32m    276\u001b[0m topic_dfs \u001b[39m=\u001b[39m \u001b[39mmap\u001b[39m(topic_top_term_df, \u001b[39menumerate\u001b[39m(top_terms\u001b[39m.\u001b[39mT\u001b[39m.\u001b[39miterrows(), start_index))\n\u001b[0;32m    277\u001b[0m \u001b[39mreturn\u001b[39;00m pd\u001b[39m.\u001b[39mconcat([default_term_info] \u001b[39m+\u001b[39m \u001b[39mlist\u001b[39m(topic_dfs))\n",
      "File \u001b[1;32mc:\\Users\\georg\\anaconda3\\lib\\site-packages\\joblib\\parallel.py:1056\u001b[0m, in \u001b[0;36mParallel.__call__\u001b[1;34m(self, iterable)\u001b[0m\n\u001b[0;32m   1053\u001b[0m     \u001b[39mself\u001b[39m\u001b[39m.\u001b[39m_iterating \u001b[39m=\u001b[39m \u001b[39mFalse\u001b[39;00m\n\u001b[0;32m   1055\u001b[0m \u001b[39mwith\u001b[39;00m \u001b[39mself\u001b[39m\u001b[39m.\u001b[39m_backend\u001b[39m.\u001b[39mretrieval_context():\n\u001b[1;32m-> 1056\u001b[0m     \u001b[39mself\u001b[39;49m\u001b[39m.\u001b[39;49mretrieve()\n\u001b[0;32m   1057\u001b[0m \u001b[39m# Make sure that we get a last message telling us we are done\u001b[39;00m\n\u001b[0;32m   1058\u001b[0m elapsed_time \u001b[39m=\u001b[39m time\u001b[39m.\u001b[39mtime() \u001b[39m-\u001b[39m \u001b[39mself\u001b[39m\u001b[39m.\u001b[39m_start_time\n",
      "File \u001b[1;32mc:\\Users\\georg\\anaconda3\\lib\\site-packages\\joblib\\parallel.py:935\u001b[0m, in \u001b[0;36mParallel.retrieve\u001b[1;34m(self)\u001b[0m\n\u001b[0;32m    933\u001b[0m \u001b[39mtry\u001b[39;00m:\n\u001b[0;32m    934\u001b[0m     \u001b[39mif\u001b[39;00m \u001b[39mgetattr\u001b[39m(\u001b[39mself\u001b[39m\u001b[39m.\u001b[39m_backend, \u001b[39m'\u001b[39m\u001b[39msupports_timeout\u001b[39m\u001b[39m'\u001b[39m, \u001b[39mFalse\u001b[39;00m):\n\u001b[1;32m--> 935\u001b[0m         \u001b[39mself\u001b[39m\u001b[39m.\u001b[39m_output\u001b[39m.\u001b[39mextend(job\u001b[39m.\u001b[39;49mget(timeout\u001b[39m=\u001b[39;49m\u001b[39mself\u001b[39;49m\u001b[39m.\u001b[39;49mtimeout))\n\u001b[0;32m    936\u001b[0m     \u001b[39melse\u001b[39;00m:\n\u001b[0;32m    937\u001b[0m         \u001b[39mself\u001b[39m\u001b[39m.\u001b[39m_output\u001b[39m.\u001b[39mextend(job\u001b[39m.\u001b[39mget())\n",
      "File \u001b[1;32mc:\\Users\\georg\\anaconda3\\lib\\site-packages\\joblib\\_parallel_backends.py:542\u001b[0m, in \u001b[0;36mLokyBackend.wrap_future_result\u001b[1;34m(future, timeout)\u001b[0m\n\u001b[0;32m    539\u001b[0m \u001b[39m\"\"\"Wrapper for Future.result to implement the same behaviour as\u001b[39;00m\n\u001b[0;32m    540\u001b[0m \u001b[39mAsyncResults.get from multiprocessing.\"\"\"\u001b[39;00m\n\u001b[0;32m    541\u001b[0m \u001b[39mtry\u001b[39;00m:\n\u001b[1;32m--> 542\u001b[0m     \u001b[39mreturn\u001b[39;00m future\u001b[39m.\u001b[39;49mresult(timeout\u001b[39m=\u001b[39;49mtimeout)\n\u001b[0;32m    543\u001b[0m \u001b[39mexcept\u001b[39;00m CfTimeoutError \u001b[39mas\u001b[39;00m e:\n\u001b[0;32m    544\u001b[0m     \u001b[39mraise\u001b[39;00m \u001b[39mTimeoutError\u001b[39;00m \u001b[39mfrom\u001b[39;00m \u001b[39me\u001b[39;00m\n",
      "File \u001b[1;32mc:\\Users\\georg\\anaconda3\\lib\\concurrent\\futures\\_base.py:446\u001b[0m, in \u001b[0;36mFuture.result\u001b[1;34m(self, timeout)\u001b[0m\n\u001b[0;32m    444\u001b[0m     \u001b[39mraise\u001b[39;00m CancelledError()\n\u001b[0;32m    445\u001b[0m \u001b[39melif\u001b[39;00m \u001b[39mself\u001b[39m\u001b[39m.\u001b[39m_state \u001b[39m==\u001b[39m FINISHED:\n\u001b[1;32m--> 446\u001b[0m     \u001b[39mreturn\u001b[39;00m \u001b[39mself\u001b[39;49m\u001b[39m.\u001b[39;49m__get_result()\n\u001b[0;32m    447\u001b[0m \u001b[39melse\u001b[39;00m:\n\u001b[0;32m    448\u001b[0m     \u001b[39mraise\u001b[39;00m \u001b[39mTimeoutError\u001b[39;00m()\n",
      "File \u001b[1;32mc:\\Users\\georg\\anaconda3\\lib\\concurrent\\futures\\_base.py:391\u001b[0m, in \u001b[0;36mFuture.__get_result\u001b[1;34m(self)\u001b[0m\n\u001b[0;32m    389\u001b[0m \u001b[39mif\u001b[39;00m \u001b[39mself\u001b[39m\u001b[39m.\u001b[39m_exception:\n\u001b[0;32m    390\u001b[0m     \u001b[39mtry\u001b[39;00m:\n\u001b[1;32m--> 391\u001b[0m         \u001b[39mraise\u001b[39;00m \u001b[39mself\u001b[39m\u001b[39m.\u001b[39m_exception\n\u001b[0;32m    392\u001b[0m     \u001b[39mfinally\u001b[39;00m:\n\u001b[0;32m    393\u001b[0m         \u001b[39m# Break a reference cycle with the exception in self._exception\u001b[39;00m\n\u001b[0;32m    394\u001b[0m         \u001b[39mself\u001b[39m \u001b[39m=\u001b[39m \u001b[39mNone\u001b[39;00m\n",
      "\u001b[1;31mBrokenProcessPool\u001b[0m: A task has failed to un-serialize. Please ensure that the arguments of the function are all picklable."
     ]
    }
   ],
   "source": [
    "import gensim\n",
    "from gensim import corpora\n",
    "from gensim.models import LdaModel\n",
    "from gensim.models.coherencemodel import CoherenceModel\n",
    "import pyLDAvis.gensim_models\n",
    "import seaborn as sns\n",
    "import pyLDAvis # Plotting tools\n",
    "import matplotlib.pyplot as plt\n",
    "%matplotlib inline\n",
    "# Prepare the data for the LDA model\n",
    "dictionary = corpora.Dictionary(tokenized_corpus)\n",
    "doc_term_matrix = [dictionary.doc2bow(tokens) for tokens in tokenized_corpus]\n",
    "\n",
    "# Train the LDA model\n",
    "num_topics = 5\n",
    "lda_model = LdaModel(doc_term_matrix, num_topics=num_topics, id2word=dictionary, passes=20, random_state=42)\n",
    "\n",
    "# Visualize the topics\n",
    "pyLDAvis.enable_notebook()\n",
    "vis = pyLDAvis.gensim_models.prepare(lda_model, doc_term_matrix, dictionary)\n",
    "vis\n"
   ]
  },
  {
   "cell_type": "markdown",
   "id": "8aa2de7c",
   "metadata": {},
   "source": [
    "    The prominence of Trump and American politics in the corpus suggests that the articles were heavily focused on the United States and its government during this time period. You could investigate the specific events or policies that were being covered during this time period.\n",
    "    The topic of international relations and conflict, specifically related to Syria and Islam, suggests that there were likely many articles covering the ongoing conflict in Syria and the role of Islam in international relations. You could investigate the different perspectives presented in these articles and how they may have contributed to public perception of these issues.\n",
    "    The appearance of the New York Times and the Wall Street Journal as a topic suggests that these two publications were particularly prominent in the corpus. You could investigate why these publications were chosen and whether there were any notable differences in the coverage between the two.\n",
    "    The appearance of \"state\" and \"would\" as topics suggests that there may have been some discussion of hypothetical scenarios or potential government actions. You could investigate what specific scenarios or actions were being discussed and how they were being framed in the articles."
   ]
  },
  {
   "cell_type": "code",
   "execution_count": null,
   "id": "01c1905f",
   "metadata": {},
   "outputs": [],
   "source": [
    "num_topics_list = [3, 5, 7, 10]\n",
    "passes_list = [5, 10, 20]\n",
    "output_folder = 'lda_output'\n",
    "\n",
    "if not os.path.exists(output_folder):\n",
    "    os.makedirs(output_folder)\n",
    "\n",
    "for num_topics in num_topics_list:\n",
    "    for passes in passes_list:\n",
    "        lda_model = LdaModel(doc_term_matrix, num_topics=num_topics, id2word=dictionary, passes=passes, random_state=42)\n",
    "        coherence_model_lda = CoherenceModel(model=lda_model, texts=tokenized_corpus, dictionary=dictionary, coherence='c_v')\n",
    "        coherence_lda = coherence_model_lda.get_coherence()\n",
    "\n",
    "        output_file = f\"lda_{num_topics}_topics_{passes}_passes.txt\"\n",
    "        with open(os.path.join(output_folder, output_file), 'w') as f:\n",
    "            for idx, topic in lda_model.print_topics(-1):\n",
    "                f.write(f\"Topic {idx+1}: {topic}\\n\")\n",
    "            f.write(f\"Coherence Score: {coherence_lda}\\n\")\n"
   ]
  },
  {
   "cell_type": "code",
   "execution_count": null,
   "id": "76106fa5",
   "metadata": {},
   "outputs": [
    {
     "data": {
      "image/png": "[encoded data removed]",
      "text/plain": [
       "<Figure size 1000x600 with 2 Axes>"
      ]
     },
     "metadata": {},
     "output_type": "display_data"
    }
   ],
   "source": [
    "coherence_matrix = []\n",
    "\n",
    "for num_topics in num_topics_list:\n",
    "    coherence_row = []\n",
    "    for passes in passes_list:\n",
    "        lda_model = LdaModel(doc_term_matrix, num_topics=num_topics, id2word=dictionary, passes=passes, random_state=42)\n",
    "        coherence_model_lda = CoherenceModel(model=lda_model, texts=tokenized_corpus, dictionary=dictionary, coherence='c_v')\n",
    "        coherence_lda = coherence_model_lda.get_coherence()\n",
    "        coherence_row.append(coherence_lda)\n",
    "    coherence_matrix.append(coherence_row)\n",
    "\n",
    "coherence_df = pd.DataFrame(coherence_matrix, columns=passes_list, index=num_topics_list)\n",
    "\n",
    "plt.figure(figsize=(10, 6))\n",
    "sns.heatmap(coherence_df, annot=True, cmap=\"YlGnBu\", cbar_kws={'label': 'Coherence'})\n",
    "plt.xlabel('Passes')\n",
    "plt.ylabel('Number of Topics')\n",
    "plt.title('Coherence Scores for Different LDA Models')\n",
    "plt.show()\n"
   ]
  },
  {
   "cell_type": "code",
   "execution_count": null,
   "id": "534bebae",
   "metadata": {},
   "outputs": [],
   "source": []
  }
 ],
 "metadata": {
  "kernelspec": {
   "display_name": "Python 3 (ipykernel)",
   "language": "python",
   "name": "python3"
  },
  "language_info": {
   "codemirror_mode": {
    "name": "ipython",
    "version": 3
   },
   "file_extension": ".py",
   "mimetype": "text/x-python",
   "name": "python",
   "nbconvert_exporter": "python",
   "pygments_lexer": "ipython3",
   "version": "3.9.12"
  }
 },
 "nbformat": 4,
 "nbformat_minor": 5
}
